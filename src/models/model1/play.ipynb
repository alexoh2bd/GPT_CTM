{
 "cells": [
  {
   "cell_type": "code",
   "execution_count": null,
   "id": "a1adb396",
   "metadata": {},
   "outputs": [
    {
     "name": "stderr",
     "output_type": "stream",
     "text": [
      "/opt/miniconda3/envs/gptenv/lib/python3.13/site-packages/tqdm/auto.py:21: TqdmWarning: IProgress not found. Please update jupyter and ipywidgets. See https://ipywidgets.readthedocs.io/en/stable/user_install.html\n",
      "  from .autonotebook import tqdm as notebook_tqdm\n"
     ]
    }
   ],
   "source": [
    "import torch\n",
    "import torch.nn as nn\n",
    "import numpy as np\n",
    "from config import GPTConfig\n",
    "# from dataloader import DL\n",
    "from pathlib import Path\n",
    "import tiktoken\n",
    "from ctmModules import SynapseUNet, CTM, NLM\n",
    "from modelgpt import GPT\n"
   ]
  },
  {
   "cell_type": "code",
   "execution_count": 2,
   "id": "c45b3af6",
   "metadata": {},
   "outputs": [],
   "source": [
    "class DL:  # DataLoader\n",
    "    def __init__(self, B, T):\n",
    "        self.B = B\n",
    "        self.T = T\n",
    "        datapath = Path.cwd().parent.parent.parent / \"data\" / \"input.txt\"\n",
    "        enc = tiktoken.get_encoding(\"gpt2\")\n",
    "        with open(datapath, \"r\") as f:\n",
    "            text = f.read()\n",
    "        tokens = enc.encode(text)\n",
    "        self.tokens = torch.tensor(tokens)\n",
    "        self.curr_pos = 0\n",
    "\n",
    "    def next_batch(self):\n",
    "        B, T = self.B, self.T\n",
    "        buf = self.tokens[self.curr_pos : self.curr_pos + B * T + 1]\n",
    "        x = buf[:-1].view(B, T)\n",
    "        y = buf[1:].view(B, T)\n",
    "\n",
    "        self.curr_pos += B * T\n",
    "        if self.curr_pos + B * T + 1 > len(self.tokens):\n",
    "            self.curr_pos = 0\n",
    "        return x, y"
   ]
  },
  {
   "cell_type": "code",
   "execution_count": null,
   "id": "bb5c3489",
   "metadata": {},
   "outputs": [
    {
     "name": "stdout",
     "output_type": "stream",
     "text": [
      "None torch.Size([0])\n",
      "None torch.Size([0])\n",
      "None torch.Size([768])\n",
      "None torch.Size([768])\n"
     ]
    }
   ],
   "source": [
    "total_batch_size = 2**11\n",
    "B = 2 # Num Batches\n",
    "T = 1024 # Tokens per Batch\n",
    "grad_accum_steps = total_batch_size // (B * T)\n",
    "train_loader = DL(B=B, T=T)\n",
    "x, y = train_loader.next_batch()\n",
    "# Input of the UnapseNet are logits shape B,T,C\n",
    "iterations = 1\n",
    "config = GPTConfig()\n",
    "d_model = config.n_embd\n",
    "memory_length = 25\n",
    "hidden_dims = 4\n",
    "dropout=0.1\n",
    "heads = 4\n",
    "\n",
    "gpt = GPT(config) # GPT Model - lm_head layer\n",
    "q_proj = nn.LazyLinear(d_model) # q projecton\n",
    "kv_proj = nn.Sequential(nn.LazyLinear(d_model), nn.LayerNorm(d_model)) \n",
    "\n",
    "\n",
    "wte = nn.Embedding(config.vocab_size, d_model)\n",
    "wpe = nn.Embedding(config.block_size, d_model)\n",
    "\n",
    "ln_1 = nn.LayerNorm(config.n_embd)\n",
    "attention = nn.MultiheadAttention(d_model, heads, dropout, batch_first=True)\n",
    "\n",
    "synnet = SynapseUNet(out_dims=d_model, depth=2, minimum_width=32, dropout=dropout)\n",
    "for param in synnet.parameters():\n",
    "    print(param.name, param.data.shape)\n",
    "nlm = nn.Sequential(\n",
    "    NLM(memory_length, hidden_dims, d_model), # ()\n",
    "    nn.GLU(),\n",
    ")\n",
    "ouput_proj = nn.Sequential(nn.LazyLinear(d_model))"
   ]
  },
  {
   "cell_type": "code",
   "execution_count": 74,
   "id": "a37b7adb",
   "metadata": {},
   "outputs": [
    {
     "name": "stdout",
     "output_type": "stream",
     "text": [
      "tensor([216, 219, 434, 240, 136, 408, 598, 232, 436, 473]) tensor([ 97, 451, 588,  82, 570, 760, 688, 187, 585, 148])\n",
      "decay action: torch.Size([384]), decay out: torch.Size([384])\n",
      "r action: torch.Size([2, 384]), r out: torch.Size([2, 384])\n"
     ]
    }
   ],
   "source": [
    "n_synch_out = int(d_model//2)\n",
    "n_synch_action= int(d_model-n_synch_out)\n",
    "# n_synch_out_rep = (n_synch_out ) //2\n",
    "# n_synch_act_rep = (n_synch_action) //2\n",
    "\n",
    "# Random Pairing left right divide\n",
    "def init_lr_neurons(d_model, n_synch):\n",
    "    neuron_indices_left = torch.from_numpy(np.random.choice(np.arange(int(d_model)), size=n_synch))\n",
    "    neuron_indices_right = torch.from_numpy(np.random.choice(np.arange(int(d_model)), size=n_synch))\n",
    "    return neuron_indices_left, neuron_indices_right\n",
    "\n",
    "action_neuron_indices_left, action_neuron_indices_right = init_lr_neurons(d_model, n_synch_action)\n",
    "out_neuron_indices_left, out_neuron_indices_right = init_lr_neurons(d_model, n_synch_out)\n",
    "decay_params_action = torch.zeros(n_synch_action)\n",
    "decay_params_out = torch.zeros(n_synch_out)\n",
    "\n",
    "print(action_neuron_indices_left[:10],action_neuron_indices_left[-10:])\n",
    "\n",
    "decay_alpha_action, decay_beta_action = None, None\n",
    "decay_params_action= torch.clamp(decay_params_action, 0, 15)  # clamp between 0 and 15, param.data\n",
    "decay_params_out = torch.clamp(decay_params_out, 0, 15)\n",
    "r_action = torch.exp(-decay_params_action).unsqueeze(0).repeat(B, 1)\n",
    "r_out = torch.exp(-decay_params_out).unsqueeze(0).repeat(B, 1)\n",
    "print(f\"decay action: {decay_params_action.shape}, decay out: {decay_params_out.shape}\")\n",
    "print(f\"r action: {r_action.shape}, r out: {r_out.shape}\")"
   ]
  },
  {
   "cell_type": "markdown",
   "id": "e4665e3b",
   "metadata": {},
   "source": []
  },
  {
   "cell_type": "code",
   "execution_count": 75,
   "id": "8d3e6a05",
   "metadata": {},
   "outputs": [
    {
     "name": "stdout",
     "output_type": "stream",
     "text": [
      "torch.Size([2, 768]) torch.Size([2, 768, 25])\n"
     ]
    }
   ],
   "source": [
    " # Recurrent State\n",
    "start_activated_state = torch.zeros((d_model)).uniform_(-d_model**-0.5, d_model**-0.5) # T\n",
    "start_state_trace = torch.zeros((d_model, memory_length)).uniform_(-  (d_model+memory_length)**-0.5, (d_model+memory_length)**-0.5) # \n",
    "activated_state = start_activated_state.unsqueeze(0).expand(B,-1) # B,H\n",
    "state_trace = start_state_trace.unsqueeze(0).expand(B,-1,-1) # B,H,T\n",
    "print(activated_state.shape, state_trace.shape)"
   ]
  },
  {
   "cell_type": "code",
   "execution_count": null,
   "id": "8f3ed8df",
   "metadata": {},
   "outputs": [
    {
     "name": "stdout",
     "output_type": "stream",
     "text": [
      "torch.Size([2, 786432])\n"
     ]
    },
    {
     "ename": "RuntimeError",
     "evalue": "mat1 and mat2 shapes cannot be multiplied (2x786432 and 768x768)",
     "output_type": "error",
     "traceback": [
      "\u001b[31m---------------------------------------------------------------------------\u001b[39m",
      "\u001b[31mRuntimeError\u001b[39m                              Traceback (most recent call last)",
      "\u001b[36mCell\u001b[39m\u001b[36m \u001b[39m\u001b[32mIn[80]\u001b[39m\u001b[32m, line 8\u001b[39m\n\u001b[32m      6\u001b[39m comb_feat = (out+pos_enc).flatten(\u001b[32m1\u001b[39m) \u001b[38;5;66;03m# B, T, D\u001b[39;00m\n\u001b[32m      7\u001b[39m \u001b[38;5;28mprint\u001b[39m(comb_feat.shape)\n\u001b[32m----> \u001b[39m\u001b[32m8\u001b[39m kv = \u001b[43mkv_proj\u001b[49m\u001b[43m(\u001b[49m\u001b[43mcomb_feat\u001b[49m\u001b[43m)\u001b[49m\n\u001b[32m      9\u001b[39m \u001b[38;5;28mprint\u001b[39m(kv)\n\u001b[32m     10\u001b[39m kv.shape\n",
      "\u001b[36mFile \u001b[39m\u001b[32m/opt/miniconda3/envs/gptenv/lib/python3.13/site-packages/torch/nn/modules/module.py:1773\u001b[39m, in \u001b[36mModule._wrapped_call_impl\u001b[39m\u001b[34m(self, *args, **kwargs)\u001b[39m\n\u001b[32m   1771\u001b[39m     \u001b[38;5;28;01mreturn\u001b[39;00m \u001b[38;5;28mself\u001b[39m._compiled_call_impl(*args, **kwargs)  \u001b[38;5;66;03m# type: ignore[misc]\u001b[39;00m\n\u001b[32m   1772\u001b[39m \u001b[38;5;28;01melse\u001b[39;00m:\n\u001b[32m-> \u001b[39m\u001b[32m1773\u001b[39m     \u001b[38;5;28;01mreturn\u001b[39;00m \u001b[38;5;28;43mself\u001b[39;49m\u001b[43m.\u001b[49m\u001b[43m_call_impl\u001b[49m\u001b[43m(\u001b[49m\u001b[43m*\u001b[49m\u001b[43margs\u001b[49m\u001b[43m,\u001b[49m\u001b[43m \u001b[49m\u001b[43m*\u001b[49m\u001b[43m*\u001b[49m\u001b[43mkwargs\u001b[49m\u001b[43m)\u001b[49m\n",
      "\u001b[36mFile \u001b[39m\u001b[32m/opt/miniconda3/envs/gptenv/lib/python3.13/site-packages/torch/nn/modules/module.py:1784\u001b[39m, in \u001b[36mModule._call_impl\u001b[39m\u001b[34m(self, *args, **kwargs)\u001b[39m\n\u001b[32m   1779\u001b[39m \u001b[38;5;66;03m# If we don't have any hooks, we want to skip the rest of the logic in\u001b[39;00m\n\u001b[32m   1780\u001b[39m \u001b[38;5;66;03m# this function, and just call forward.\u001b[39;00m\n\u001b[32m   1781\u001b[39m \u001b[38;5;28;01mif\u001b[39;00m \u001b[38;5;129;01mnot\u001b[39;00m (\u001b[38;5;28mself\u001b[39m._backward_hooks \u001b[38;5;129;01mor\u001b[39;00m \u001b[38;5;28mself\u001b[39m._backward_pre_hooks \u001b[38;5;129;01mor\u001b[39;00m \u001b[38;5;28mself\u001b[39m._forward_hooks \u001b[38;5;129;01mor\u001b[39;00m \u001b[38;5;28mself\u001b[39m._forward_pre_hooks\n\u001b[32m   1782\u001b[39m         \u001b[38;5;129;01mor\u001b[39;00m _global_backward_pre_hooks \u001b[38;5;129;01mor\u001b[39;00m _global_backward_hooks\n\u001b[32m   1783\u001b[39m         \u001b[38;5;129;01mor\u001b[39;00m _global_forward_hooks \u001b[38;5;129;01mor\u001b[39;00m _global_forward_pre_hooks):\n\u001b[32m-> \u001b[39m\u001b[32m1784\u001b[39m     \u001b[38;5;28;01mreturn\u001b[39;00m \u001b[43mforward_call\u001b[49m\u001b[43m(\u001b[49m\u001b[43m*\u001b[49m\u001b[43margs\u001b[49m\u001b[43m,\u001b[49m\u001b[43m \u001b[49m\u001b[43m*\u001b[49m\u001b[43m*\u001b[49m\u001b[43mkwargs\u001b[49m\u001b[43m)\u001b[49m\n\u001b[32m   1786\u001b[39m result = \u001b[38;5;28;01mNone\u001b[39;00m\n\u001b[32m   1787\u001b[39m called_always_called_hooks = \u001b[38;5;28mset\u001b[39m()\n",
      "\u001b[36mFile \u001b[39m\u001b[32m/opt/miniconda3/envs/gptenv/lib/python3.13/site-packages/torch/nn/modules/container.py:244\u001b[39m, in \u001b[36mSequential.forward\u001b[39m\u001b[34m(self, input)\u001b[39m\n\u001b[32m    242\u001b[39m \u001b[38;5;28;01mdef\u001b[39;00m\u001b[38;5;250m \u001b[39m\u001b[34mforward\u001b[39m(\u001b[38;5;28mself\u001b[39m, \u001b[38;5;28minput\u001b[39m):\n\u001b[32m    243\u001b[39m     \u001b[38;5;28;01mfor\u001b[39;00m module \u001b[38;5;129;01min\u001b[39;00m \u001b[38;5;28mself\u001b[39m:\n\u001b[32m--> \u001b[39m\u001b[32m244\u001b[39m         \u001b[38;5;28minput\u001b[39m = \u001b[43mmodule\u001b[49m\u001b[43m(\u001b[49m\u001b[38;5;28;43minput\u001b[39;49m\u001b[43m)\u001b[49m\n\u001b[32m    245\u001b[39m     \u001b[38;5;28;01mreturn\u001b[39;00m \u001b[38;5;28minput\u001b[39m\n",
      "\u001b[36mFile \u001b[39m\u001b[32m/opt/miniconda3/envs/gptenv/lib/python3.13/site-packages/torch/nn/modules/module.py:1773\u001b[39m, in \u001b[36mModule._wrapped_call_impl\u001b[39m\u001b[34m(self, *args, **kwargs)\u001b[39m\n\u001b[32m   1771\u001b[39m     \u001b[38;5;28;01mreturn\u001b[39;00m \u001b[38;5;28mself\u001b[39m._compiled_call_impl(*args, **kwargs)  \u001b[38;5;66;03m# type: ignore[misc]\u001b[39;00m\n\u001b[32m   1772\u001b[39m \u001b[38;5;28;01melse\u001b[39;00m:\n\u001b[32m-> \u001b[39m\u001b[32m1773\u001b[39m     \u001b[38;5;28;01mreturn\u001b[39;00m \u001b[38;5;28;43mself\u001b[39;49m\u001b[43m.\u001b[49m\u001b[43m_call_impl\u001b[49m\u001b[43m(\u001b[49m\u001b[43m*\u001b[49m\u001b[43margs\u001b[49m\u001b[43m,\u001b[49m\u001b[43m \u001b[49m\u001b[43m*\u001b[49m\u001b[43m*\u001b[49m\u001b[43mkwargs\u001b[49m\u001b[43m)\u001b[49m\n",
      "\u001b[36mFile \u001b[39m\u001b[32m/opt/miniconda3/envs/gptenv/lib/python3.13/site-packages/torch/nn/modules/module.py:1784\u001b[39m, in \u001b[36mModule._call_impl\u001b[39m\u001b[34m(self, *args, **kwargs)\u001b[39m\n\u001b[32m   1779\u001b[39m \u001b[38;5;66;03m# If we don't have any hooks, we want to skip the rest of the logic in\u001b[39;00m\n\u001b[32m   1780\u001b[39m \u001b[38;5;66;03m# this function, and just call forward.\u001b[39;00m\n\u001b[32m   1781\u001b[39m \u001b[38;5;28;01mif\u001b[39;00m \u001b[38;5;129;01mnot\u001b[39;00m (\u001b[38;5;28mself\u001b[39m._backward_hooks \u001b[38;5;129;01mor\u001b[39;00m \u001b[38;5;28mself\u001b[39m._backward_pre_hooks \u001b[38;5;129;01mor\u001b[39;00m \u001b[38;5;28mself\u001b[39m._forward_hooks \u001b[38;5;129;01mor\u001b[39;00m \u001b[38;5;28mself\u001b[39m._forward_pre_hooks\n\u001b[32m   1782\u001b[39m         \u001b[38;5;129;01mor\u001b[39;00m _global_backward_pre_hooks \u001b[38;5;129;01mor\u001b[39;00m _global_backward_hooks\n\u001b[32m   1783\u001b[39m         \u001b[38;5;129;01mor\u001b[39;00m _global_forward_hooks \u001b[38;5;129;01mor\u001b[39;00m _global_forward_pre_hooks):\n\u001b[32m-> \u001b[39m\u001b[32m1784\u001b[39m     \u001b[38;5;28;01mreturn\u001b[39;00m \u001b[43mforward_call\u001b[49m\u001b[43m(\u001b[49m\u001b[43m*\u001b[49m\u001b[43margs\u001b[49m\u001b[43m,\u001b[49m\u001b[43m \u001b[49m\u001b[43m*\u001b[49m\u001b[43m*\u001b[49m\u001b[43mkwargs\u001b[49m\u001b[43m)\u001b[49m\n\u001b[32m   1786\u001b[39m result = \u001b[38;5;28;01mNone\u001b[39;00m\n\u001b[32m   1787\u001b[39m called_always_called_hooks = \u001b[38;5;28mset\u001b[39m()\n",
      "\u001b[36mFile \u001b[39m\u001b[32m/opt/miniconda3/envs/gptenv/lib/python3.13/site-packages/torch/nn/modules/linear.py:125\u001b[39m, in \u001b[36mLinear.forward\u001b[39m\u001b[34m(self, input)\u001b[39m\n\u001b[32m    124\u001b[39m \u001b[38;5;28;01mdef\u001b[39;00m\u001b[38;5;250m \u001b[39m\u001b[34mforward\u001b[39m(\u001b[38;5;28mself\u001b[39m, \u001b[38;5;28minput\u001b[39m: Tensor) -> Tensor:\n\u001b[32m--> \u001b[39m\u001b[32m125\u001b[39m     \u001b[38;5;28;01mreturn\u001b[39;00m \u001b[43mF\u001b[49m\u001b[43m.\u001b[49m\u001b[43mlinear\u001b[49m\u001b[43m(\u001b[49m\u001b[38;5;28;43minput\u001b[39;49m\u001b[43m,\u001b[49m\u001b[43m \u001b[49m\u001b[38;5;28;43mself\u001b[39;49m\u001b[43m.\u001b[49m\u001b[43mweight\u001b[49m\u001b[43m,\u001b[49m\u001b[43m \u001b[49m\u001b[38;5;28;43mself\u001b[39;49m\u001b[43m.\u001b[49m\u001b[43mbias\u001b[49m\u001b[43m)\u001b[49m\n",
      "\u001b[31mRuntimeError\u001b[39m: mat1 and mat2 shapes cannot be multiplied (2x786432 and 768x768)"
     ]
    }
   ],
   "source": [
    "# Compute features\n",
    "out = gpt(x) # B, T, D\n",
    "\n",
    "pos = torch.arange(0, T, dtype=torch.long, device=x.device)  # shape (T)\n",
    "pos_enc = wpe(pos) # T, D\n",
    "comb_feat = (out+pos_enc).flatten(2) # B, T, D\n",
    "print(comb_feat.shape)\n",
    "kv = kv_proj(comb_feat)\n",
    "print(kv)\n",
    "kv.shape"
   ]
  },
  {
   "cell_type": "code",
   "execution_count": 77,
   "id": "8bd12074",
   "metadata": {},
   "outputs": [],
   "source": [
    "def compute_sync(activated_state, decay_alpha, decay_beta, r, synch_type):\n",
    "    '''\n",
    "    Params: \n",
    "        activated_state: torch tensor represents current state embeddings\n",
    "        decay_alpha: exponential decay rate\n",
    "        decay_beta: \n",
    "        r: decay rate\n",
    "        synch_type\n",
    "    '''\n",
    "    if synch_type == 'action': # Get action parameters\n",
    "        neurons_left = action_neuron_indices_left\n",
    "        neurons_right = action_neuron_indices_right\n",
    "    elif synch_type == 'out': # Get input parameters\n",
    "        neurons_left = out_neuron_indices_left\n",
    "        neurons_right = out_neuron_indices_right\n",
    "    # compute pairwise\n",
    "    left = activated_state[:, neurons_left]\n",
    "    right = activated_state[:, neurons_right]\n",
    "    pairwise_product = left*right\n",
    "    print(\"pairwise\", pairwise_product.shape)\n",
    "    # Compute synchronisation recurrently\n",
    "    if decay_alpha is None or decay_beta is None:\n",
    "        decay_alpha = pairwise_product\n",
    "        decay_beta = torch.ones_like(pairwise_product)\n",
    "    else:\n",
    "        print(\"decay_alpha\",decay_alpha.shape)\n",
    "        print(\"r\", r.shape)\n",
    "\n",
    "        decay_alpha = r * decay_alpha + pairwise_product\n",
    "        decay_beta = r * decay_beta + 1\n",
    "    sync = decay_alpha * (decay_beta **-0.5)\n",
    "    return sync, decay_alpha, decay_beta\n",
    "        "
   ]
  },
  {
   "cell_type": "code",
   "execution_count": null,
   "id": "2f1c1ba3",
   "metadata": {},
   "outputs": [
    {
     "name": "stdout",
     "output_type": "stream",
     "text": [
      "r_action torch.Size([2, 384]) torch.Size([2, 384])\n",
      "pairwise torch.Size([2, 384])\n",
      "pairwise torch.Size([2, 384])\n",
      "torch.Size([2, 384]) torch.Size([2, 384]) torch.Size([2, 384])\n",
      "q:  torch.Size([2, 768])\n"
     ]
    },
    {
     "ename": "AssertionError",
     "evalue": "For unbatched (2-D) `query`, expected `key` and `value` to be 2-D but found 3-D and 3-D tensors respectively",
     "output_type": "error",
     "traceback": [
      "\u001b[31m---------------------------------------------------------------------------\u001b[39m",
      "\u001b[31mAssertionError\u001b[39m                            Traceback (most recent call last)",
      "\u001b[36mCell\u001b[39m\u001b[36m \u001b[39m\u001b[32mIn[78]\u001b[39m\u001b[32m, line 15\u001b[39m\n\u001b[32m     13\u001b[39m \u001b[38;5;28mprint\u001b[39m(\u001b[33m\"\u001b[39m\u001b[33mq: \u001b[39m\u001b[33m\"\u001b[39m,q.shape)\n\u001b[32m     14\u001b[39m out = ln_1(out)\n\u001b[32m---> \u001b[39m\u001b[32m15\u001b[39m attn_out = \u001b[43mattention\u001b[49m\u001b[43m(\u001b[49m\u001b[43mq\u001b[49m\u001b[43m,\u001b[49m\u001b[43m \u001b[49m\u001b[43mkv\u001b[49m\u001b[43m,\u001b[49m\u001b[43m \u001b[49m\u001b[43mkv\u001b[49m\u001b[43m,\u001b[49m\u001b[43m \u001b[49m\u001b[43maverage_attn_weights\u001b[49m\u001b[43m=\u001b[49m\u001b[38;5;28;43;01mFalse\u001b[39;49;00m\u001b[43m,\u001b[49m\u001b[43m \u001b[49m\u001b[43mneed_weights\u001b[49m\u001b[43m=\u001b[49m\u001b[38;5;28;43;01mTrue\u001b[39;49;00m\u001b[43m)\u001b[49m \n\u001b[32m     17\u001b[39m \u001b[38;5;28mprint\u001b[39m(attn_out.squeeze(\u001b[32m1\u001b[39m).shape) \u001b[38;5;66;03m#(B,T,C)\u001b[39;00m\n\u001b[32m     18\u001b[39m logits = torch.cat((attn_out.squeeze(\u001b[32m1\u001b[39m),activated_state), dim = -\u001b[32m1\u001b[39m)\n",
      "\u001b[36mFile \u001b[39m\u001b[32m/opt/miniconda3/envs/gptenv/lib/python3.13/site-packages/torch/nn/modules/module.py:1773\u001b[39m, in \u001b[36mModule._wrapped_call_impl\u001b[39m\u001b[34m(self, *args, **kwargs)\u001b[39m\n\u001b[32m   1771\u001b[39m     \u001b[38;5;28;01mreturn\u001b[39;00m \u001b[38;5;28mself\u001b[39m._compiled_call_impl(*args, **kwargs)  \u001b[38;5;66;03m# type: ignore[misc]\u001b[39;00m\n\u001b[32m   1772\u001b[39m \u001b[38;5;28;01melse\u001b[39;00m:\n\u001b[32m-> \u001b[39m\u001b[32m1773\u001b[39m     \u001b[38;5;28;01mreturn\u001b[39;00m \u001b[38;5;28;43mself\u001b[39;49m\u001b[43m.\u001b[49m\u001b[43m_call_impl\u001b[49m\u001b[43m(\u001b[49m\u001b[43m*\u001b[49m\u001b[43margs\u001b[49m\u001b[43m,\u001b[49m\u001b[43m \u001b[49m\u001b[43m*\u001b[49m\u001b[43m*\u001b[49m\u001b[43mkwargs\u001b[49m\u001b[43m)\u001b[49m\n",
      "\u001b[36mFile \u001b[39m\u001b[32m/opt/miniconda3/envs/gptenv/lib/python3.13/site-packages/torch/nn/modules/module.py:1784\u001b[39m, in \u001b[36mModule._call_impl\u001b[39m\u001b[34m(self, *args, **kwargs)\u001b[39m\n\u001b[32m   1779\u001b[39m \u001b[38;5;66;03m# If we don't have any hooks, we want to skip the rest of the logic in\u001b[39;00m\n\u001b[32m   1780\u001b[39m \u001b[38;5;66;03m# this function, and just call forward.\u001b[39;00m\n\u001b[32m   1781\u001b[39m \u001b[38;5;28;01mif\u001b[39;00m \u001b[38;5;129;01mnot\u001b[39;00m (\u001b[38;5;28mself\u001b[39m._backward_hooks \u001b[38;5;129;01mor\u001b[39;00m \u001b[38;5;28mself\u001b[39m._backward_pre_hooks \u001b[38;5;129;01mor\u001b[39;00m \u001b[38;5;28mself\u001b[39m._forward_hooks \u001b[38;5;129;01mor\u001b[39;00m \u001b[38;5;28mself\u001b[39m._forward_pre_hooks\n\u001b[32m   1782\u001b[39m         \u001b[38;5;129;01mor\u001b[39;00m _global_backward_pre_hooks \u001b[38;5;129;01mor\u001b[39;00m _global_backward_hooks\n\u001b[32m   1783\u001b[39m         \u001b[38;5;129;01mor\u001b[39;00m _global_forward_hooks \u001b[38;5;129;01mor\u001b[39;00m _global_forward_pre_hooks):\n\u001b[32m-> \u001b[39m\u001b[32m1784\u001b[39m     \u001b[38;5;28;01mreturn\u001b[39;00m \u001b[43mforward_call\u001b[49m\u001b[43m(\u001b[49m\u001b[43m*\u001b[49m\u001b[43margs\u001b[49m\u001b[43m,\u001b[49m\u001b[43m \u001b[49m\u001b[43m*\u001b[49m\u001b[43m*\u001b[49m\u001b[43mkwargs\u001b[49m\u001b[43m)\u001b[49m\n\u001b[32m   1786\u001b[39m result = \u001b[38;5;28;01mNone\u001b[39;00m\n\u001b[32m   1787\u001b[39m called_always_called_hooks = \u001b[38;5;28mset\u001b[39m()\n",
      "\u001b[36mFile \u001b[39m\u001b[32m/opt/miniconda3/envs/gptenv/lib/python3.13/site-packages/torch/nn/modules/activation.py:1380\u001b[39m, in \u001b[36mMultiheadAttention.forward\u001b[39m\u001b[34m(self, query, key, value, key_padding_mask, need_weights, attn_mask, average_attn_weights, is_causal)\u001b[39m\n\u001b[32m   1354\u001b[39m     attn_output, attn_output_weights = F.multi_head_attention_forward(\n\u001b[32m   1355\u001b[39m         query,\n\u001b[32m   1356\u001b[39m         key,\n\u001b[32m   (...)\u001b[39m\u001b[32m   1377\u001b[39m         is_causal=is_causal,\n\u001b[32m   1378\u001b[39m     )\n\u001b[32m   1379\u001b[39m \u001b[38;5;28;01melse\u001b[39;00m:\n\u001b[32m-> \u001b[39m\u001b[32m1380\u001b[39m     attn_output, attn_output_weights = \u001b[43mF\u001b[49m\u001b[43m.\u001b[49m\u001b[43mmulti_head_attention_forward\u001b[49m\u001b[43m(\u001b[49m\n\u001b[32m   1381\u001b[39m \u001b[43m        \u001b[49m\u001b[43mquery\u001b[49m\u001b[43m,\u001b[49m\n\u001b[32m   1382\u001b[39m \u001b[43m        \u001b[49m\u001b[43mkey\u001b[49m\u001b[43m,\u001b[49m\n\u001b[32m   1383\u001b[39m \u001b[43m        \u001b[49m\u001b[43mvalue\u001b[49m\u001b[43m,\u001b[49m\n\u001b[32m   1384\u001b[39m \u001b[43m        \u001b[49m\u001b[38;5;28;43mself\u001b[39;49m\u001b[43m.\u001b[49m\u001b[43membed_dim\u001b[49m\u001b[43m,\u001b[49m\n\u001b[32m   1385\u001b[39m \u001b[43m        \u001b[49m\u001b[38;5;28;43mself\u001b[39;49m\u001b[43m.\u001b[49m\u001b[43mnum_heads\u001b[49m\u001b[43m,\u001b[49m\n\u001b[32m   1386\u001b[39m \u001b[43m        \u001b[49m\u001b[38;5;28;43mself\u001b[39;49m\u001b[43m.\u001b[49m\u001b[43min_proj_weight\u001b[49m\u001b[43m,\u001b[49m\n\u001b[32m   1387\u001b[39m \u001b[43m        \u001b[49m\u001b[38;5;28;43mself\u001b[39;49m\u001b[43m.\u001b[49m\u001b[43min_proj_bias\u001b[49m\u001b[43m,\u001b[49m\n\u001b[32m   1388\u001b[39m \u001b[43m        \u001b[49m\u001b[38;5;28;43mself\u001b[39;49m\u001b[43m.\u001b[49m\u001b[43mbias_k\u001b[49m\u001b[43m,\u001b[49m\n\u001b[32m   1389\u001b[39m \u001b[43m        \u001b[49m\u001b[38;5;28;43mself\u001b[39;49m\u001b[43m.\u001b[49m\u001b[43mbias_v\u001b[49m\u001b[43m,\u001b[49m\n\u001b[32m   1390\u001b[39m \u001b[43m        \u001b[49m\u001b[38;5;28;43mself\u001b[39;49m\u001b[43m.\u001b[49m\u001b[43madd_zero_attn\u001b[49m\u001b[43m,\u001b[49m\n\u001b[32m   1391\u001b[39m \u001b[43m        \u001b[49m\u001b[38;5;28;43mself\u001b[39;49m\u001b[43m.\u001b[49m\u001b[43mdropout\u001b[49m\u001b[43m,\u001b[49m\n\u001b[32m   1392\u001b[39m \u001b[43m        \u001b[49m\u001b[38;5;28;43mself\u001b[39;49m\u001b[43m.\u001b[49m\u001b[43mout_proj\u001b[49m\u001b[43m.\u001b[49m\u001b[43mweight\u001b[49m\u001b[43m,\u001b[49m\n\u001b[32m   1393\u001b[39m \u001b[43m        \u001b[49m\u001b[38;5;28;43mself\u001b[39;49m\u001b[43m.\u001b[49m\u001b[43mout_proj\u001b[49m\u001b[43m.\u001b[49m\u001b[43mbias\u001b[49m\u001b[43m,\u001b[49m\n\u001b[32m   1394\u001b[39m \u001b[43m        \u001b[49m\u001b[43mtraining\u001b[49m\u001b[43m=\u001b[49m\u001b[38;5;28;43mself\u001b[39;49m\u001b[43m.\u001b[49m\u001b[43mtraining\u001b[49m\u001b[43m,\u001b[49m\n\u001b[32m   1395\u001b[39m \u001b[43m        \u001b[49m\u001b[43mkey_padding_mask\u001b[49m\u001b[43m=\u001b[49m\u001b[43mkey_padding_mask\u001b[49m\u001b[43m,\u001b[49m\n\u001b[32m   1396\u001b[39m \u001b[43m        \u001b[49m\u001b[43mneed_weights\u001b[49m\u001b[43m=\u001b[49m\u001b[43mneed_weights\u001b[49m\u001b[43m,\u001b[49m\n\u001b[32m   1397\u001b[39m \u001b[43m        \u001b[49m\u001b[43mattn_mask\u001b[49m\u001b[43m=\u001b[49m\u001b[43mattn_mask\u001b[49m\u001b[43m,\u001b[49m\n\u001b[32m   1398\u001b[39m \u001b[43m        \u001b[49m\u001b[43maverage_attn_weights\u001b[49m\u001b[43m=\u001b[49m\u001b[43maverage_attn_weights\u001b[49m\u001b[43m,\u001b[49m\n\u001b[32m   1399\u001b[39m \u001b[43m        \u001b[49m\u001b[43mis_causal\u001b[49m\u001b[43m=\u001b[49m\u001b[43mis_causal\u001b[49m\u001b[43m,\u001b[49m\n\u001b[32m   1400\u001b[39m \u001b[43m    \u001b[49m\u001b[43m)\u001b[49m\n\u001b[32m   1401\u001b[39m \u001b[38;5;28;01mif\u001b[39;00m \u001b[38;5;28mself\u001b[39m.batch_first \u001b[38;5;129;01mand\u001b[39;00m is_batched:\n\u001b[32m   1402\u001b[39m     \u001b[38;5;28;01mreturn\u001b[39;00m attn_output.transpose(\u001b[32m1\u001b[39m, \u001b[32m0\u001b[39m), attn_output_weights\n",
      "\u001b[36mFile \u001b[39m\u001b[32m/opt/miniconda3/envs/gptenv/lib/python3.13/site-packages/torch/nn/functional.py:6221\u001b[39m, in \u001b[36mmulti_head_attention_forward\u001b[39m\u001b[34m(query, key, value, embed_dim_to_check, num_heads, in_proj_weight, in_proj_bias, bias_k, bias_v, add_zero_attn, dropout_p, out_proj_weight, out_proj_bias, training, key_padding_mask, need_weights, attn_mask, use_separate_proj_weight, q_proj_weight, k_proj_weight, v_proj_weight, static_k, static_v, average_attn_weights, is_causal)\u001b[39m\n\u001b[32m   6190\u001b[39m \u001b[38;5;28;01mif\u001b[39;00m has_torch_function(tens_ops):\n\u001b[32m   6191\u001b[39m     \u001b[38;5;28;01mreturn\u001b[39;00m handle_torch_function(\n\u001b[32m   6192\u001b[39m         multi_head_attention_forward,\n\u001b[32m   6193\u001b[39m         tens_ops,\n\u001b[32m   (...)\u001b[39m\u001b[32m   6218\u001b[39m         average_attn_weights=average_attn_weights,\n\u001b[32m   6219\u001b[39m     )\n\u001b[32m-> \u001b[39m\u001b[32m6221\u001b[39m is_batched = \u001b[43m_mha_shape_check\u001b[49m\u001b[43m(\u001b[49m\n\u001b[32m   6222\u001b[39m \u001b[43m    \u001b[49m\u001b[43mquery\u001b[49m\u001b[43m,\u001b[49m\u001b[43m \u001b[49m\u001b[43mkey\u001b[49m\u001b[43m,\u001b[49m\u001b[43m \u001b[49m\u001b[43mvalue\u001b[49m\u001b[43m,\u001b[49m\u001b[43m \u001b[49m\u001b[43mkey_padding_mask\u001b[49m\u001b[43m,\u001b[49m\u001b[43m \u001b[49m\u001b[43mattn_mask\u001b[49m\u001b[43m,\u001b[49m\u001b[43m \u001b[49m\u001b[43mnum_heads\u001b[49m\n\u001b[32m   6223\u001b[39m \u001b[43m\u001b[49m\u001b[43m)\u001b[49m\n\u001b[32m   6225\u001b[39m \u001b[38;5;66;03m# For unbatched input, we unsqueeze at the expected batch-dim to pretend that the input\u001b[39;00m\n\u001b[32m   6226\u001b[39m \u001b[38;5;66;03m# is batched, run the computation and before returning squeeze the\u001b[39;00m\n\u001b[32m   6227\u001b[39m \u001b[38;5;66;03m# batch dimension so that the output doesn't carry this temporary batch dimension.\u001b[39;00m\n\u001b[32m   6228\u001b[39m \u001b[38;5;28;01mif\u001b[39;00m \u001b[38;5;129;01mnot\u001b[39;00m is_batched:\n\u001b[32m   6229\u001b[39m     \u001b[38;5;66;03m# unsqueeze if the input is unbatched\u001b[39;00m\n",
      "\u001b[36mFile \u001b[39m\u001b[32m/opt/miniconda3/envs/gptenv/lib/python3.13/site-packages/torch/nn/functional.py:5995\u001b[39m, in \u001b[36m_mha_shape_check\u001b[39m\u001b[34m(query, key, value, key_padding_mask, attn_mask, num_heads)\u001b[39m\n\u001b[32m   5992\u001b[39m \u001b[38;5;28;01melif\u001b[39;00m query.dim() == \u001b[32m2\u001b[39m:\n\u001b[32m   5993\u001b[39m     \u001b[38;5;66;03m# Unbatched Inputs\u001b[39;00m\n\u001b[32m   5994\u001b[39m     is_batched = \u001b[38;5;28;01mFalse\u001b[39;00m\n\u001b[32m-> \u001b[39m\u001b[32m5995\u001b[39m     \u001b[38;5;28;01massert\u001b[39;00m key.dim() == \u001b[32m2\u001b[39m \u001b[38;5;129;01mand\u001b[39;00m value.dim() == \u001b[32m2\u001b[39m, (\n\u001b[32m   5996\u001b[39m         \u001b[33m\"\u001b[39m\u001b[33mFor unbatched (2-D) `query`, expected `key` and `value` to be 2-D\u001b[39m\u001b[33m\"\u001b[39m\n\u001b[32m   5997\u001b[39m         \u001b[33mf\u001b[39m\u001b[33m\"\u001b[39m\u001b[33m but found \u001b[39m\u001b[38;5;132;01m{\u001b[39;00mkey.dim()\u001b[38;5;132;01m}\u001b[39;00m\u001b[33m-D and \u001b[39m\u001b[38;5;132;01m{\u001b[39;00mvalue.dim()\u001b[38;5;132;01m}\u001b[39;00m\u001b[33m-D tensors respectively\u001b[39m\u001b[33m\"\u001b[39m\n\u001b[32m   5998\u001b[39m     )\n\u001b[32m   6000\u001b[39m     \u001b[38;5;28;01mif\u001b[39;00m key_padding_mask \u001b[38;5;129;01mis\u001b[39;00m \u001b[38;5;129;01mnot\u001b[39;00m \u001b[38;5;28;01mNone\u001b[39;00m:\n\u001b[32m   6001\u001b[39m         \u001b[38;5;28;01massert\u001b[39;00m key_padding_mask.dim() == \u001b[32m1\u001b[39m, (\n\u001b[32m   6002\u001b[39m             \u001b[33m\"\u001b[39m\u001b[33mFor unbatched (2-D) `query`, expected `key_padding_mask` to be `None` or 1-D\u001b[39m\u001b[33m\"\u001b[39m\n\u001b[32m   6003\u001b[39m             \u001b[33mf\u001b[39m\u001b[33m\"\u001b[39m\u001b[33m but found \u001b[39m\u001b[38;5;132;01m{\u001b[39;00mkey_padding_mask.dim()\u001b[38;5;132;01m}\u001b[39;00m\u001b[33m-D tensor instead\u001b[39m\u001b[33m\"\u001b[39m\n\u001b[32m   6004\u001b[39m         )\n",
      "\u001b[31mAssertionError\u001b[39m: For unbatched (2-D) `query`, expected `key` and `value` to be 2-D but found 3-D and 3-D tensors respectively"
     ]
    }
   ],
   "source": [
    "pre_activations = []\n",
    "post_activations = []\n",
    "r_action, r_out = torch.exp(-decay_params_action).unsqueeze(0).repeat(B, 1), torch.exp(-decay_params_out).unsqueeze(0).repeat(B, 1)\n",
    "activated_state = start_activated_state.unsqueeze(0).expand(B,-1)\n",
    "print(\"r_action\", r_action.shape, r_out.shape)\n",
    "\n",
    "_, decay_alpha_out, decay_beta_out = compute_sync(activated_state, None, None, r_out, 'out')\n",
    "for _ in range(iterations):\n",
    "    sync, decay_alpha_action, decay_beta_action = compute_sync(activated_state, decay_alpha_action, decay_beta_action, r_action,'action')\n",
    "    print(sync.shape, decay_alpha_action.shape, decay_beta_action.shape)\n",
    "    \n",
    "    q = q_proj(sync)\n",
    "    print(\"q: \",q.shape)\n",
    "    out = ln_1(out)\n",
    "    attn_out = attention(q, kv, kv, average_attn_weights=False, ne) \n",
    "    \n",
    "    print(attn_out.squeeze(1).shape) #(B,T,C)\n",
    "    logits = torch.cat((attn_out.squeeze(1),activated_state), dim = -1)\n",
    "    print(\"LOGITS SHAPE, (B,T,C)\", logits.shape)\n",
    "    state = synnet(logits) # (B, T, C)\n",
    "\n",
    "    # state_trace is the history of incoming pre-activations\n",
    "    print(\"State Trace:\", state_trace[:,:,1:].shape, \"State:\", state.unsqueeze(-1).shape) # state_trace: (B, C, M-1) state:(B,H,T)\n",
    "    state_trace = torch.cat((state_trace[:,:,1:], state.unsqueeze(-1)), dim=-1)\n",
    "    print(state_trace.shape)# Should be batch, d_model, Mem len\n",
    "    nlm_logits = nlm(state_trace)\n",
    "\n",
    "\n",
    "    print(start_activated_state.shape, activated_state.shape,  logits.shape, state_trace.shape, nlm_logits.shape) #(B, T, C)\\\n"
   ]
  },
  {
   "cell_type": "code",
   "execution_count": null,
   "id": "9068bc26",
   "metadata": {},
   "outputs": [],
   "source": []
  },
  {
   "cell_type": "code",
   "execution_count": null,
   "id": "bc74802f",
   "metadata": {},
   "outputs": [],
   "source": []
  }
 ],
 "metadata": {
  "kernelspec": {
   "display_name": "gptenv",
   "language": "python",
   "name": "python3"
  },
  "language_info": {
   "codemirror_mode": {
    "name": "ipython",
    "version": 3
   },
   "file_extension": ".py",
   "mimetype": "text/x-python",
   "name": "python",
   "nbconvert_exporter": "python",
   "pygments_lexer": "ipython3",
   "version": "3.13.5"
  }
 },
 "nbformat": 4,
 "nbformat_minor": 5
}
